{
 "cells": [
  {
   "cell_type": "markdown",
   "metadata": {},
   "source": [
    "## Colab Setup\n",
    "\n",
    "Run the below commands only if you imported this notebook into Google Colab! Also **go to Runtime/Change runtime type and pick \"GPU\" as the hardware accelerator!**"
   ]
  },
  {
   "cell_type": "code",
   "execution_count": null,
   "metadata": {},
   "outputs": [],
   "source": [
    "!pip3 install face_recognition\n",
    "!wget -O 1.jpg https://pbs.twimg.com/media/EbhCWS3XsAAmOww?format=jpg&name=900x900\n",
    "!wget -O 2.jpg https://pbs.twimg.com/media/EbhCXwFXQBI6rSq?format=jpg&name=small\n",
    "!wget -O 3.jpg https://pbs.twimg.com/media/EbhCYfjWsAAQYCi?format=jpg&name=900x900 "
   ]
  },
  {
   "cell_type": "markdown",
   "metadata": {},
   "source": [
    "## Imports"
   ]
  },
  {
   "cell_type": "code",
   "execution_count": null,
   "metadata": {},
   "outputs": [],
   "source": [
    "import numpy as np\n",
    "from io import BytesIO\n",
    "import PIL.Image \n",
    "from IPython import display\n",
    "import face_recognition"
   ]
  },
  {
   "cell_type": "markdown",
   "metadata": {},
   "source": [
    "## Function to show image in a notebook"
   ]
  },
  {
   "cell_type": "code",
   "execution_count": null,
   "metadata": {},
   "outputs": [],
   "source": [
    "def show_img(img, fmt='jpeg', size=None):\n",
    "    img = PIL.Image.fromarray(img)\n",
    "    out = BytesIO()\n",
    "    img.save(out, fmt)\n",
    "    display.display(display.Image(data=out.getvalue()))"
   ]
  },
  {
   "cell_type": "markdown",
   "metadata": {},
   "source": [
    "## Face detection and recognition"
   ]
  },
  {
   "cell_type": "code",
   "execution_count": null,
   "metadata": {},
   "outputs": [],
   "source": [
    "for file in [\"1.jpg\", \"2.jpg\", \"3.jpg\"]:\n",
    "    image = face_recognition.load_image_file(file)\n",
    "    face_locations = face_recognition.face_locations(image, number_of_times_to_upsample=0, model=\"cnn\")\n",
    "    for face_location in face_locations:\n",
    "        top, right, bottom, left = face_location\n",
    "        show_img(image[top:bottom, left:right])"
   ]
  },
  {
   "cell_type": "code",
   "execution_count": null,
   "metadata": {},
   "outputs": [],
   "source": [
    "known_image = face_recognition.load_image_file(\"1.jpg\")\n",
    "unknown_image_1 = face_recognition.load_image_file(\"2.jpg\")\n",
    "unknown_image_2 = face_recognition.load_image_file(\"3.jpg\")\n",
    "known_encoding = face_recognition.face_encodings(known_image)[0]\n",
    "unknown_encoding_1 = face_recognition.face_encodings(unknown_image_1)[0]\n",
    "unknown_encoding_2 = face_recognition.face_encodings(unknown_image_2)[0]\n",
    "\n",
    "print(face_recognition.compare_faces([known_encoding], unknown_encoding_1))\n",
    "print(face_recognition.compare_faces([known_encoding], unknown_encoding_2))"
   ]
  }
 ],
 "metadata": {
  "kernelspec": {
   "display_name": "Python 3",
   "language": "python",
   "name": "python3"
  },
  "language_info": {
   "codemirror_mode": {
    "name": "ipython",
    "version": 3
   },
   "file_extension": ".py",
   "mimetype": "text/x-python",
   "name": "python",
   "nbconvert_exporter": "python",
   "pygments_lexer": "ipython3",
   "version": "3.7.7"
  }
 },
 "nbformat": 4,
 "nbformat_minor": 4
}
